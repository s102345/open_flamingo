{
 "cells": [
  {
   "cell_type": "markdown",
   "metadata": {},
   "source": [
    "## Setup Enviornment"
   ]
  },
  {
   "cell_type": "code",
   "execution_count": null,
   "metadata": {},
   "outputs": [],
   "source": [
    "%git clone https://github.com/s102345/open_flamingo.git\n",
    "%pip install -r requirements.txt\n",
    "%pip3 install openai wandb wget gdown clip-retrieval python-dotenv"
   ]
  },
  {
   "cell_type": "markdown",
   "metadata": {},
   "source": [
    "## Run training"
   ]
  },
  {
   "cell_type": "code",
   "execution_count": null,
   "metadata": {},
   "outputs": [],
   "source": [
    "%sh ./open_flamingo/prompt_optimization/train.sh"
   ]
  },
  {
   "cell_type": "markdown",
   "metadata": {},
   "source": [
    "## Run training(Custom)"
   ]
  },
  {
   "cell_type": "code",
   "execution_count": null,
   "metadata": {},
   "outputs": [],
   "source": [
    "!python manager.py \\\n",
    "--output_dir ./ \\\n",
    "--steps 1 \\\n",
    "--rices \\\n",
    "--shots 4 \\\n",
    "--example_rule \"rices\" \\\n",
    "--caption_number 3 \\\n",
    "--initial_prompt \"Output: \" \\\n",
    "--extra_information \\\n",
    "\n"
   ]
  }
 ],
 "metadata": {
  "language_info": {
   "name": "python"
  }
 },
 "nbformat": 4,
 "nbformat_minor": 2
}
